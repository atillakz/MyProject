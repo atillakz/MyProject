{
 "cells": [
  {
   "cell_type": "code",
   "execution_count": 141,
   "metadata": {},
   "outputs": [],
   "source": [
    "from influxdb import DataFrameClient\n",
    "import pandas as pd\n",
    "from sklearn.linear_model import LinearRegression\n",
    "from sklearn.metrics import mean_squared_error, r2_score\n",
    "import matplotlib.pyplot as plt\n",
    "import numpy as np\n",
    "from sklearn.externals import joblib\n",
    "\n",
    "host = '192.168.4.33'\n",
    "port = 8086\n",
    "user = ''\n",
    "password = ''\n",
    "db_name = 'Labview'\n",
    "\n",
    "query_body = \"\"\"\n",
    "\n",
    "SELECT  npt, ngp,t5_average_temperature,engine_pcd ,t1_temperature, turb_air_inlet_filter_dp, gas_fuel_flow_x\n",
    "\n",
    "FROM Unit1\n",
    "\n",
    "WHERE time > \\'2018-05-24T03:30:00Z\\'\n",
    "\n",
    "\"\"\"\n",
    "\n",
    "\n",
    "LIN_REG = 'Linear Regression'\n",
    "ALGORYTHM = 'LIN_REG'\n",
    "# ALGORYTHM = ''\n",
    "PLOT_TITLE = 'Prediction of Gas Flow. Prediction and Test'\n",
    "\n",
    "\n",
    "class GasFlow_Predictor():\n",
    "\n",
    "    def __init__(self, train_p=0.8):\n",
    "        \n",
    "        self.regr = LinearRegression(normalize=True)\n",
    "        self.variance = -1\n",
    "        self.mse = -1\n",
    "        self.train_p = train_p\n",
    "\n",
    "    def get_data_from_influx(self, host, port, user, password, db_name):\n",
    "\n",
    "        self.client = DataFrameClient(host, port, user, password, db_name)\n",
    "\n",
    "        self.data = self.client.query(query_body)\n",
    "\n",
    "    def read_data(self):\n",
    "        \n",
    "        self.new_data = dict(self.data)\n",
    "\n",
    "        for i in self.new_data:\n",
    "            \n",
    "            self.my_data = self.new_data[i]\n",
    "            \n",
    "    def prepare_data(self):\n",
    "\n",
    "        self.my_data = self.my_data.reset_index()\n",
    "        \n",
    "        print(self.my_data.shape)\n",
    "\n",
    "        self.my_data = self.my_data.dropna()\n",
    "        \n",
    "        print(self.my_data.shape)\n",
    "\n",
    "        \n",
    "        print(self.my_data.corr()[['gas_fuel_flow_x']].sort_values('gas_fuel_flow_x'))  \n",
    "\n",
    "        self.my_data = self.my_data.set_index('index')\n",
    "        \n",
    "        #print(self.my_data.head())\n",
    "\n",
    "        self.x_data = self.my_data.drop('gas_fuel_flow_x', axis = 1)\n",
    "        \n",
    "        print(self.x_data.columns)\n",
    "\n",
    "        self.y_data = pd.DataFrame(self.my_data['gas_fuel_flow_x'], index = self.my_data.index)\n",
    "        \n",
    "        print(self.y_data.columns)\n",
    "\n",
    "        index = int(len(self.x_data) * self.train_p)\n",
    "\n",
    "        self.x_train = self.x_data[:index]\n",
    "        \n",
    "      #  print(x_train.shape)\n",
    "\n",
    "        self.y_train = self.y_data[:index]\n",
    "\n",
    "        self.x_test = self.x_data[index:]\n",
    "\n",
    "        self.y_test = self.y_data[index:]\n",
    "        \n",
    "        return self.my_data\n",
    "\n",
    "    \n"
   ]
  },
  {
   "cell_type": "code",
   "execution_count": 142,
   "metadata": {},
   "outputs": [],
   "source": [
    "kettik = GasFlow_Predictor()"
   ]
  },
  {
   "cell_type": "code",
   "execution_count": 143,
   "metadata": {},
   "outputs": [],
   "source": [
    "kettik.get_data_from_influx(host, port, user, password, db_name)"
   ]
  },
  {
   "cell_type": "code",
   "execution_count": 144,
   "metadata": {},
   "outputs": [],
   "source": [
    "kettik.read_data()"
   ]
  },
  {
   "cell_type": "code",
   "execution_count": 145,
   "metadata": {},
   "outputs": [
    {
     "name": "stdout",
     "output_type": "stream",
     "text": [
      "(22949, 8)\n",
      "(2487, 8)\n",
      "                          gas_fuel_flow_x\n",
      "engine_pcd                      -0.040733\n",
      "t5_average_temperature           0.169003\n",
      "ngp                              0.605326\n",
      "npt                              0.635569\n",
      "gas_fuel_flow_x                  1.000000\n",
      "t1_temperature                        NaN\n",
      "turb_air_inlet_filter_dp              NaN\n",
      "Index(['engine_pcd', 'ngp', 'npt', 't1_temperature', 't5_average_temperature',\n",
      "       'turb_air_inlet_filter_dp'],\n",
      "      dtype='object')\n",
      "Index(['gas_fuel_flow_x'], dtype='object')\n"
     ]
    }
   ],
   "source": [
    "aa=kettik.prepare_data()"
   ]
  },
  {
   "cell_type": "code",
   "execution_count": 146,
   "metadata": {},
   "outputs": [
    {
     "data": {
      "text/plain": [
       "DatetimeIndex(['2018-05-30 06:25:16+00:00', '2018-05-30 06:25:46+00:00',\n",
       "               '2018-05-30 06:26:16+00:00', '2018-05-30 06:26:46+00:00',\n",
       "               '2018-05-30 06:27:16+00:00', '2018-05-30 06:27:46+00:00',\n",
       "               '2018-05-30 06:28:16+00:00', '2018-05-30 06:28:46+00:00',\n",
       "               '2018-05-30 06:29:16+00:00', '2018-05-30 06:29:46+00:00',\n",
       "               ...\n",
       "               '2018-05-31 06:43:16+00:00', '2018-05-31 06:43:46+00:00',\n",
       "               '2018-05-31 06:44:16+00:00', '2018-05-31 06:44:46+00:00',\n",
       "               '2018-05-31 06:45:16+00:00', '2018-05-31 06:45:46+00:00',\n",
       "               '2018-05-31 06:46:16+00:00', '2018-05-31 06:46:46+00:00',\n",
       "               '2018-05-31 06:47:16+00:00', '2018-05-31 06:47:46+00:00'],\n",
       "              dtype='datetime64[ns, UTC]', name='index', length=2487, freq=None)"
      ]
     },
     "execution_count": 146,
     "metadata": {},
     "output_type": "execute_result"
    }
   ],
   "source": [
    "aa.index\n"
   ]
  },
  {
   "cell_type": "code",
   "execution_count": 147,
   "metadata": {},
   "outputs": [],
   "source": [
    "b = dict()\n",
    "c = dict()"
   ]
  },
  {
   "cell_type": "code",
   "execution_count": 148,
   "metadata": {},
   "outputs": [],
   "source": [
    "b['sss'] = aa[0:1].index"
   ]
  },
  {
   "cell_type": "code",
   "execution_count": 149,
   "metadata": {},
   "outputs": [
    {
     "data": {
      "text/plain": [
       "DatetimeIndex(['2018-05-30 06:25:16+00:00'], dtype='datetime64[ns, UTC]', name='index', freq=None)"
      ]
     },
     "execution_count": 149,
     "metadata": {},
     "output_type": "execute_result"
    }
   ],
   "source": [
    "b['sss']"
   ]
  },
  {
   "cell_type": "code",
   "execution_count": 150,
   "metadata": {},
   "outputs": [],
   "source": [
    "c['www'] = aa[2486:2487].index"
   ]
  },
  {
   "cell_type": "code",
   "execution_count": 151,
   "metadata": {},
   "outputs": [
    {
     "data": {
      "text/plain": [
       "DatetimeIndex(['2018-05-31 06:47:46+00:00'], dtype='datetime64[ns, UTC]', name='index', freq=None)"
      ]
     },
     "execution_count": 151,
     "metadata": {},
     "output_type": "execute_result"
    }
   ],
   "source": [
    "c['www']"
   ]
  },
  {
   "cell_type": "code",
   "execution_count": 152,
   "metadata": {},
   "outputs": [
    {
     "data": {
      "text/plain": [
       "{'www': DatetimeIndex(['2018-05-31 06:47:46+00:00'], dtype='datetime64[ns, UTC]', name='index', freq=None)}"
      ]
     },
     "execution_count": 152,
     "metadata": {},
     "output_type": "execute_result"
    }
   ],
   "source": [
    "c"
   ]
  },
  {
   "cell_type": "code",
   "execution_count": 153,
   "metadata": {},
   "outputs": [],
   "source": [
    "a=c['www']-b['sss']"
   ]
  },
  {
   "cell_type": "code",
   "execution_count": 154,
   "metadata": {},
   "outputs": [],
   "source": [
    "b['lll'] = aa[23:24].index"
   ]
  },
  {
   "cell_type": "code",
   "execution_count": 155,
   "metadata": {},
   "outputs": [
    {
     "data": {
      "text/plain": [
       "pandas.core.indexes.timedeltas.TimedeltaIndex"
      ]
     },
     "execution_count": 155,
     "metadata": {},
     "output_type": "execute_result"
    }
   ],
   "source": [
    "type(a)"
   ]
  },
  {
   "cell_type": "code",
   "execution_count": 156,
   "metadata": {},
   "outputs": [],
   "source": [
    "kunder = a.days"
   ]
  },
  {
   "cell_type": "code",
   "execution_count": 157,
   "metadata": {},
   "outputs": [],
   "source": [
    "hours=(a.seconds / 3600)\n"
   ]
  },
  {
   "cell_type": "code",
   "execution_count": 158,
   "metadata": {},
   "outputs": [
    {
     "data": {
      "text/plain": [
       "Int64Index([1], dtype='int64', name='index')"
      ]
     },
     "execution_count": 158,
     "metadata": {},
     "output_type": "execute_result"
    }
   ],
   "source": [
    "kunder"
   ]
  },
  {
   "cell_type": "code",
   "execution_count": 159,
   "metadata": {},
   "outputs": [
    {
     "data": {
      "text/plain": [
       "Float64Index([0.375], dtype='float64', name='index')"
      ]
     },
     "execution_count": 159,
     "metadata": {},
     "output_type": "execute_result"
    }
   ],
   "source": [
    "hours"
   ]
  },
  {
   "cell_type": "code",
   "execution_count": 160,
   "metadata": {},
   "outputs": [],
   "source": [
    "total = kunder * 24 + hours "
   ]
  },
  {
   "cell_type": "code",
   "execution_count": 161,
   "metadata": {},
   "outputs": [
    {
     "data": {
      "text/plain": [
       "array([24.375])"
      ]
     },
     "execution_count": 161,
     "metadata": {},
     "output_type": "execute_result"
    }
   ],
   "source": [
    "total.values"
   ]
  },
  {
   "cell_type": "code",
   "execution_count": 162,
   "metadata": {},
   "outputs": [],
   "source": [
    "pd_a = pd.DataFrame({'time' : a}, index = aa[0:1].index)"
   ]
  },
  {
   "cell_type": "code",
   "execution_count": 163,
   "metadata": {},
   "outputs": [
    {
     "data": {
      "text/html": [
       "<div>\n",
       "<style scoped>\n",
       "    .dataframe tbody tr th:only-of-type {\n",
       "        vertical-align: middle;\n",
       "    }\n",
       "\n",
       "    .dataframe tbody tr th {\n",
       "        vertical-align: top;\n",
       "    }\n",
       "\n",
       "    .dataframe thead th {\n",
       "        text-align: right;\n",
       "    }\n",
       "</style>\n",
       "<table border=\"1\" class=\"dataframe\">\n",
       "  <thead>\n",
       "    <tr style=\"text-align: right;\">\n",
       "      <th></th>\n",
       "      <th>time</th>\n",
       "    </tr>\n",
       "    <tr>\n",
       "      <th>index</th>\n",
       "      <th></th>\n",
       "    </tr>\n",
       "  </thead>\n",
       "  <tbody>\n",
       "    <tr>\n",
       "      <th>2018-05-30 06:25:16+00:00</th>\n",
       "      <td>1 days 00:22:30</td>\n",
       "    </tr>\n",
       "  </tbody>\n",
       "</table>\n",
       "</div>"
      ],
      "text/plain": [
       "                                     time\n",
       "index                                    \n",
       "2018-05-30 06:25:16+00:00 1 days 00:22:30"
      ]
     },
     "execution_count": 163,
     "metadata": {},
     "output_type": "execute_result"
    }
   ],
   "source": [
    "pd_a"
   ]
  },
  {
   "cell_type": "code",
   "execution_count": null,
   "metadata": {},
   "outputs": [],
   "source": []
  },
  {
   "cell_type": "code",
   "execution_count": 164,
   "metadata": {},
   "outputs": [],
   "source": [
    "pd_total = pd.DataFrame({'radio' : total.values}, index = aa[0:1].index)"
   ]
  },
  {
   "cell_type": "code",
   "execution_count": 165,
   "metadata": {},
   "outputs": [
    {
     "data": {
      "text/html": [
       "<div>\n",
       "<style scoped>\n",
       "    .dataframe tbody tr th:only-of-type {\n",
       "        vertical-align: middle;\n",
       "    }\n",
       "\n",
       "    .dataframe tbody tr th {\n",
       "        vertical-align: top;\n",
       "    }\n",
       "\n",
       "    .dataframe thead th {\n",
       "        text-align: right;\n",
       "    }\n",
       "</style>\n",
       "<table border=\"1\" class=\"dataframe\">\n",
       "  <thead>\n",
       "    <tr style=\"text-align: right;\">\n",
       "      <th></th>\n",
       "      <th>radio</th>\n",
       "    </tr>\n",
       "    <tr>\n",
       "      <th>index</th>\n",
       "      <th></th>\n",
       "    </tr>\n",
       "  </thead>\n",
       "  <tbody>\n",
       "    <tr>\n",
       "      <th>2018-05-30 06:25:16+00:00</th>\n",
       "      <td>24.375</td>\n",
       "    </tr>\n",
       "  </tbody>\n",
       "</table>\n",
       "</div>"
      ],
      "text/plain": [
       "                            radio\n",
       "index                            \n",
       "2018-05-30 06:25:16+00:00  24.375"
      ]
     },
     "execution_count": 165,
     "metadata": {},
     "output_type": "execute_result"
    }
   ],
   "source": [
    "pd_total"
   ]
  },
  {
   "cell_type": "code",
   "execution_count": 166,
   "metadata": {},
   "outputs": [
    {
     "name": "stdout",
     "output_type": "stream",
     "text": [
      "<class 'pandas.core.frame.DataFrame'>\n",
      "DatetimeIndex: 1 entries, 2018-05-30 06:25:16+00:00 to 2018-05-30 06:25:16+00:00\n",
      "Data columns (total 1 columns):\n",
      "radio    1 non-null float64\n",
      "dtypes: float64(1)\n",
      "memory usage: 16.0 bytes\n"
     ]
    }
   ],
   "source": [
    "pd_total.info()"
   ]
  },
  {
   "cell_type": "code",
   "execution_count": 167,
   "metadata": {},
   "outputs": [],
   "source": [
    "zhost = '192.168.4.33'\n",
    "\n",
    "zport = 8086\n",
    "\n",
    "zuser = ''\n",
    "\n",
    "zpassword = ''\n",
    "\n",
    "zdb_name = 'Online_Classification'"
   ]
  },
  {
   "cell_type": "code",
   "execution_count": 168,
   "metadata": {},
   "outputs": [],
   "source": [
    "from influxdb import DataFrameClient\n"
   ]
  },
  {
   "cell_type": "code",
   "execution_count": 169,
   "metadata": {},
   "outputs": [],
   "source": [
    "writer_client = DataFrameClient(zhost, zport, zuser, zpassword, zdb_name)\n"
   ]
  },
  {
   "cell_type": "code",
   "execution_count": 176,
   "metadata": {},
   "outputs": [],
   "source": [
    "up = writer_client.write_points(pd_total, 'www')"
   ]
  },
  {
   "cell_type": "code",
   "execution_count": 171,
   "metadata": {},
   "outputs": [],
   "source": [
    "def days_hours_minutes(td):\n",
    "    days = td.days * 24\n",
    "    hours = td.seconds / 3600\n",
    "    total = days + hours\n",
    "    return total.values"
   ]
  },
  {
   "cell_type": "code",
   "execution_count": 172,
   "metadata": {},
   "outputs": [],
   "source": [
    "rus = days_hours_minutes(a)"
   ]
  },
  {
   "cell_type": "code",
   "execution_count": 173,
   "metadata": {},
   "outputs": [
    {
     "data": {
      "text/plain": [
       "array([24.375])"
      ]
     },
     "execution_count": 173,
     "metadata": {},
     "output_type": "execute_result"
    }
   ],
   "source": [
    "rus"
   ]
  },
  {
   "cell_type": "code",
   "execution_count": 174,
   "metadata": {},
   "outputs": [],
   "source": [
    "pd_total = pd.DataFrame({'zzz' : days_hours_minutes(a)}, index = aa[0:1].index)"
   ]
  },
  {
   "cell_type": "code",
   "execution_count": 175,
   "metadata": {},
   "outputs": [
    {
     "data": {
      "text/html": [
       "<div>\n",
       "<style scoped>\n",
       "    .dataframe tbody tr th:only-of-type {\n",
       "        vertical-align: middle;\n",
       "    }\n",
       "\n",
       "    .dataframe tbody tr th {\n",
       "        vertical-align: top;\n",
       "    }\n",
       "\n",
       "    .dataframe thead th {\n",
       "        text-align: right;\n",
       "    }\n",
       "</style>\n",
       "<table border=\"1\" class=\"dataframe\">\n",
       "  <thead>\n",
       "    <tr style=\"text-align: right;\">\n",
       "      <th></th>\n",
       "      <th>zzz</th>\n",
       "    </tr>\n",
       "    <tr>\n",
       "      <th>index</th>\n",
       "      <th></th>\n",
       "    </tr>\n",
       "  </thead>\n",
       "  <tbody>\n",
       "    <tr>\n",
       "      <th>2018-05-30 06:25:16+00:00</th>\n",
       "      <td>24.375</td>\n",
       "    </tr>\n",
       "  </tbody>\n",
       "</table>\n",
       "</div>"
      ],
      "text/plain": [
       "                              zzz\n",
       "index                            \n",
       "2018-05-30 06:25:16+00:00  24.375"
      ]
     },
     "execution_count": 175,
     "metadata": {},
     "output_type": "execute_result"
    }
   ],
   "source": [
    "pd_total"
   ]
  },
  {
   "cell_type": "code",
   "execution_count": null,
   "metadata": {},
   "outputs": [],
   "source": []
  }
 ],
 "metadata": {
  "kernelspec": {
   "display_name": "Python 3",
   "language": "python",
   "name": "python3"
  },
  "language_info": {
   "codemirror_mode": {
    "name": "ipython",
    "version": 3
   },
   "file_extension": ".py",
   "mimetype": "text/x-python",
   "name": "python",
   "nbconvert_exporter": "python",
   "pygments_lexer": "ipython3",
   "version": "3.6.4"
  }
 },
 "nbformat": 4,
 "nbformat_minor": 2
}
